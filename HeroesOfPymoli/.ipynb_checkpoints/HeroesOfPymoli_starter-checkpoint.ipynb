{
 "cells": [
  {
   "cell_type": "markdown",
   "metadata": {},
   "source": [
    "### Heroes Of Pymoli Data Analysis\n",
    "* Of the 1163 active players, the vast majority are male (84%). There also exists, a smaller, but notable proportion of female players (14%).\n",
    "\n",
    "* Our peak age demographic falls between 20-24 (44.8%) with secondary groups falling between 15-19 (18.60%) and 25-29 (13.4%).  \n",
    "-----"
   ]
  },
  {
   "cell_type": "markdown",
   "metadata": {},
   "source": [
    "### Note\n",
    "* Instructions have been included for each segment. You do not have to follow them exactly, but they are included to help you think through the steps."
   ]
  },
  {
   "cell_type": "code",
   "execution_count": 202,
   "metadata": {},
   "outputs": [
    {
     "name": "stdout",
     "output_type": "stream",
     "text": [
      "<class 'pandas.core.frame.DataFrame'>\n",
      "RangeIndex: 780 entries, 0 to 779\n",
      "Data columns (total 7 columns):\n",
      " #   Column       Non-Null Count  Dtype  \n",
      "---  ------       --------------  -----  \n",
      " 0   Purchase ID  780 non-null    int64  \n",
      " 1   SN           780 non-null    object \n",
      " 2   Age          780 non-null    int64  \n",
      " 3   Gender       780 non-null    object \n",
      " 4   Item ID      780 non-null    int64  \n",
      " 5   Item Name    780 non-null    object \n",
      " 6   Price        780 non-null    float64\n",
      "dtypes: float64(1), int64(3), object(3)\n",
      "memory usage: 42.8+ KB\n"
     ]
    }
   ],
   "source": [
    "# Dependencies and Setup\n",
    "import pandas as pd\n",
    "\n",
    "# File to Load (Remember to Change These)\n",
    "file_to_load = \"Resources/purchase_data.csv\"\n",
    "\n",
    "# Read Purchasing File and store into Pandas data frame\n",
    "purchase_data = pd.read_csv(file_to_load)\n",
    "purchase_data.info()\n",
    "#purchase_data.describe()\n",
    "no_purchases=len(purchase_data)"
   ]
  },
  {
   "cell_type": "markdown",
   "metadata": {},
   "source": [
    "## Player Count"
   ]
  },
  {
   "cell_type": "markdown",
   "metadata": {},
   "source": [
    "* Display the total number of players\n"
   ]
  },
  {
   "cell_type": "code",
   "execution_count": 203,
   "metadata": {},
   "outputs": [
    {
     "data": {
      "text/plain": [
       "576"
      ]
     },
     "execution_count": 203,
     "metadata": {},
     "output_type": "execute_result"
    }
   ],
   "source": [
    "count=purchase_data[\"SN\"].value_counts()\n",
    "#len gives the total items or the length of the series\n",
    "player_count =len(count)\n",
    "player_count"
   ]
  },
  {
   "cell_type": "markdown",
   "metadata": {},
   "source": [
    "## Purchasing Analysis (Total)"
   ]
  },
  {
   "cell_type": "markdown",
   "metadata": {},
   "source": [
    "* Run basic calculations to obtain number of unique items, average price, etc.\n",
    "\n",
    "\n",
    "* Create a summary data frame to hold the results\n",
    "\n",
    "\n",
    "* Optional: give the displayed data cleaner formatting\n",
    "\n",
    "\n",
    "* Display the summary data frame\n"
   ]
  },
  {
   "cell_type": "code",
   "execution_count": 204,
   "metadata": {
    "scrolled": true
   },
   "outputs": [
    {
     "data": {
      "text/html": [
       "<div>\n",
       "<style scoped>\n",
       "    .dataframe tbody tr th:only-of-type {\n",
       "        vertical-align: middle;\n",
       "    }\n",
       "\n",
       "    .dataframe tbody tr th {\n",
       "        vertical-align: top;\n",
       "    }\n",
       "\n",
       "    .dataframe thead th {\n",
       "        text-align: right;\n",
       "    }\n",
       "</style>\n",
       "<table border=\"1\" class=\"dataframe\">\n",
       "  <thead>\n",
       "    <tr style=\"text-align: right;\">\n",
       "      <th></th>\n",
       "      <th>Number of Unique Items</th>\n",
       "      <th>Average Price</th>\n",
       "      <th>No. of Purchases</th>\n",
       "      <th>Total Revenue</th>\n",
       "    </tr>\n",
       "  </thead>\n",
       "  <tbody>\n",
       "    <tr>\n",
       "      <th>0</th>\n",
       "      <td>179</td>\n",
       "      <td>$3.05</td>\n",
       "      <td>780</td>\n",
       "      <td>$2,379.77</td>\n",
       "    </tr>\n",
       "  </tbody>\n",
       "</table>\n",
       "</div>"
      ],
      "text/plain": [
       "   Number of Unique Items Average Price  No. of Purchases Total Revenue\n",
       "0                     179         $3.05               780     $2,379.77"
      ]
     },
     "execution_count": 204,
     "metadata": {},
     "output_type": "execute_result"
    }
   ],
   "source": [
    "unique_items= len(purchase_data[\"Item ID\"].unique())\n",
    "unique_items\n",
    "average_price = purchase_data[\"Price\"].mean()\n",
    "#use pyhton formatting\n",
    "formatted_avg_price = \"${:,.2f}\".format(average_price)\n",
    "formatted_avg_price\n",
    "total_revenue = purchase_data[\"Price\"].sum()\n",
    "formatted_total_revenue = \"${:,.2f}\".format(total_revenue)\n",
    "#creatre a df including all the infomation\n",
    "summary_df = pd.DataFrame({\n",
    "    \"Number of Unique Items\": [unique_items],\n",
    "    \"Average Price\": [formatted_avg_price],\n",
    "    \"No. of Purchases\": [no_purchases],\n",
    "    \"Total Revenue\":[formatted_total_revenue]})\n",
    "summary_df"
   ]
  },
  {
   "cell_type": "markdown",
   "metadata": {},
   "source": [
    "## Gender Demographics"
   ]
  },
  {
   "cell_type": "markdown",
   "metadata": {},
   "source": [
    "* Percentage and Count of Male Players\n",
    "\n",
    "\n",
    "* Percentage and Count of Female Players\n",
    "\n",
    "\n",
    "* Percentage and Count of Other / Non-Disclosed\n",
    "\n",
    "\n"
   ]
  },
  {
   "cell_type": "code",
   "execution_count": 205,
   "metadata": {},
   "outputs": [
    {
     "data": {
      "text/plain": [
       "484"
      ]
     },
     "execution_count": 205,
     "metadata": {},
     "output_type": "execute_result"
    }
   ],
   "source": [
    "#cfreate a df for males\n",
    "male_df=purchase_data[purchase_data[\"Gender\"]==\"Male\"]\n",
    "male=len(male_df[\"SN\"].unique())\n",
    "#check the no. of males\n",
    "male\n",
    "#female_df=purchase_data[purchase_data[\"Gender\"]==\"Female\"]\n",
    "#len(male_df[\"Item ID\"].value_counts())"
   ]
  },
  {
   "cell_type": "code",
   "execution_count": 206,
   "metadata": {},
   "outputs": [
    {
     "data": {
      "text/html": [
       "<div>\n",
       "<style scoped>\n",
       "    .dataframe tbody tr th:only-of-type {\n",
       "        vertical-align: middle;\n",
       "    }\n",
       "\n",
       "    .dataframe tbody tr th {\n",
       "        vertical-align: top;\n",
       "    }\n",
       "\n",
       "    .dataframe thead th {\n",
       "        text-align: right;\n",
       "    }\n",
       "</style>\n",
       "<table border=\"1\" class=\"dataframe\">\n",
       "  <thead>\n",
       "    <tr style=\"text-align: right;\">\n",
       "      <th></th>\n",
       "      <th>Total Count</th>\n",
       "      <th>Percentage of Players</th>\n",
       "    </tr>\n",
       "  </thead>\n",
       "  <tbody>\n",
       "    <tr>\n",
       "      <th>Male</th>\n",
       "      <td>484</td>\n",
       "      <td>84.03%</td>\n",
       "    </tr>\n",
       "    <tr>\n",
       "      <th>Female</th>\n",
       "      <td>81</td>\n",
       "      <td>14.06%</td>\n",
       "    </tr>\n",
       "    <tr>\n",
       "      <th>Other / Non-Disclosed</th>\n",
       "      <td>11</td>\n",
       "      <td>1.91%</td>\n",
       "    </tr>\n",
       "  </tbody>\n",
       "</table>\n",
       "</div>"
      ],
      "text/plain": [
       "                       Total Count Percentage of Players\n",
       "Male                           484                84.03%\n",
       "Female                          81                14.06%\n",
       "Other / Non-Disclosed           11                 1.91%"
      ]
     },
     "execution_count": 206,
     "metadata": {},
     "output_type": "execute_result"
    }
   ],
   "source": [
    "#repeat the process for female\n",
    "female_df=purchase_data[purchase_data[\"Gender\"]==\"Female\"]\n",
    "female=len(female_df[\"SN\"].unique())\n",
    "female\n",
    "#df[df['A'].str.contains(\"hello\")]\n",
    "#to find the other I use a wildcard \"contains\"\n",
    "#repeat the process dfor others but use str.contains(\"Other\") to find all possible cases\n",
    "other_df=purchase_data[purchase_data[\"Gender\"].str.contains(\"Other\")]\n",
    "other = len(other_df[\"SN\"].unique())\n",
    "other\n",
    "#create a df\n",
    "gender_info = [{\"Total Count\": male, \"Percentage of Players\":\"{:,.2f}%\".format(male*100/player_count)},\n",
    "               {\"Total Count\": female, \"Percentage of Players\":\"{:,.2f}%\".format(female*100/player_count)},\n",
    "               {\"Total Count\": other, \"Percentage of Players\":\"{:,.2f}%\".format(other*100/player_count)}]\n",
    "\n",
    "gender_df = pd.DataFrame(gender_info,index=[\"Male\",\"Female\", \"Other / Non-Disclosed\"])\n",
    "\n",
    "gender_df"
   ]
  },
  {
   "cell_type": "markdown",
   "metadata": {},
   "source": [
    "\n",
    "## Purchasing Analysis (Gender)"
   ]
  },
  {
   "cell_type": "markdown",
   "metadata": {},
   "source": [
    "* Run basic calculations to obtain purchase count, avg. purchase price, avg. purchase total per person etc. by gender\n",
    "\n",
    "\n",
    "\n",
    "\n",
    "* Create a summary data frame to hold the results\n",
    "\n",
    "\n",
    "* Optional: give the displayed data cleaner formatting\n",
    "\n",
    "\n",
    "* Display the summary data frame"
   ]
  },
  {
   "cell_type": "code",
   "execution_count": 213,
   "metadata": {},
   "outputs": [
    {
     "data": {
      "text/html": [
       "<div>\n",
       "<style scoped>\n",
       "    .dataframe tbody tr th:only-of-type {\n",
       "        vertical-align: middle;\n",
       "    }\n",
       "\n",
       "    .dataframe tbody tr th {\n",
       "        vertical-align: top;\n",
       "    }\n",
       "\n",
       "    .dataframe thead th {\n",
       "        text-align: right;\n",
       "    }\n",
       "</style>\n",
       "<table border=\"1\" class=\"dataframe\">\n",
       "  <thead>\n",
       "    <tr style=\"text-align: right;\">\n",
       "      <th></th>\n",
       "      <th>Purchase Count</th>\n",
       "      <th>Average Purchase Price</th>\n",
       "      <th>Total Purchase Value</th>\n",
       "      <th>Avg Total Purchase per Person</th>\n",
       "    </tr>\n",
       "  </thead>\n",
       "  <tbody>\n",
       "    <tr>\n",
       "      <th>Female</th>\n",
       "      <td>113</td>\n",
       "      <td>$3.20</td>\n",
       "      <td>$361.94</td>\n",
       "      <td>$4.47</td>\n",
       "    </tr>\n",
       "    <tr>\n",
       "      <th>Male</th>\n",
       "      <td>652</td>\n",
       "      <td>$3.02</td>\n",
       "      <td>$1,967.64</td>\n",
       "      <td>$4.07</td>\n",
       "    </tr>\n",
       "    <tr>\n",
       "      <th>Other / Non-Disclosed</th>\n",
       "      <td>15</td>\n",
       "      <td>$3.35</td>\n",
       "      <td>$50.19</td>\n",
       "      <td>$4.56</td>\n",
       "    </tr>\n",
       "  </tbody>\n",
       "</table>\n",
       "</div>"
      ],
      "text/plain": [
       "                       Purchase Count Average Purchase Price  \\\n",
       "Female                            113                  $3.20   \n",
       "Male                              652                  $3.02   \n",
       "Other / Non-Disclosed              15                  $3.35   \n",
       "\n",
       "                      Total Purchase Value Avg Total Purchase per Person  \n",
       "Female                             $361.94                         $4.47  \n",
       "Male                             $1,967.64                         $4.07  \n",
       "Other / Non-Disclosed               $50.19                         $4.56  "
      ]
     },
     "execution_count": 213,
     "metadata": {},
     "output_type": "execute_result"
    }
   ],
   "source": [
    "#find purchases based on the gender\n",
    "male_purchases=len(male_df[\"Purchase ID\"].unique())\n",
    "female_purchases=len(female_df[\"Purchase ID\"].unique())\n",
    "#female_purchases\n",
    "other_purchases=len(other_df[\"Purchase ID\"].unique())\n",
    "\n",
    "#finding the average purchasing price\n",
    "male_avg = male_df[\"Price\"].sum()/male_purchases\n",
    "female_avg = female_df[\"Price\"].sum()/female_purchases\n",
    "other_avg = other_df[\"Price\"].sum()/other_purchases\n",
    "#Total Purchase Value\n",
    "tot_other = other_df[\"Price\"].sum()\n",
    "tot_male =  male_df[\"Price\"].sum()\n",
    "tot_female =  female_df[\"Price\"].sum()\n",
    "\n",
    "#finding \"Avg Total Purchase per Person\"\n",
    "avg_male = tot_male/male\n",
    "avg_female = tot_female/female\n",
    "avg_other = tot_other/other\n",
    "\n",
    "#create df\n",
    "purchase_info = [{\"Purchase Count\": female_purchases, \"Average Purchase Price\":\"${:,.2f}\".format(female_avg),\n",
    "                 \"Total Purchase Value\":\"${:,.2f}\".format(tot_female), \"Avg Total Purchase per Person\": \"${:,.2f}\".format(avg_female)},\n",
    "               {\"Purchase Count\": male_purchases, \"Average Purchase Price\":\"${:,.2f}\".format(male_avg),\n",
    "               \"Total Purchase Value\":\"${:,.2f}\".format(tot_male), \"Avg Total Purchase per Person\": \"${:,.2f}\".format(avg_male)},\n",
    "               {\"Purchase Count\": other_purchases, \"Average Purchase Price\":\"${:,.2f}\".format(other_avg),\n",
    "               \"Total Purchase Value\":\"${:,.2f}\".format(tot_other), \"Avg Total Purchase per Person\": \"${:,.2f}\".format(avg_other)}]\n",
    "purchase_df = pd.DataFrame(purchase_info,index=[\"Female\",\"Male\", \"Other / Non-Disclosed\"])\n",
    "purchase_df"
   ]
  },
  {
   "cell_type": "markdown",
   "metadata": {},
   "source": [
    "## Age Demographics"
   ]
  },
  {
   "cell_type": "markdown",
   "metadata": {},
   "source": [
    "* Establish bins for ages\n",
    "\n",
    "\n",
    "* Categorize the existing players using the age bins. Hint: use pd.cut()\n",
    "\n",
    "\n",
    "* Calculate the numbers and percentages by age group\n",
    "\n",
    "\n",
    "* Create a summary data frame to hold the results\n",
    "\n",
    "\n",
    "* Optional: round the percentage column to two decimal points\n",
    "\n",
    "\n",
    "* Display Age Demographics Table\n"
   ]
  },
  {
   "cell_type": "code",
   "execution_count": 208,
   "metadata": {},
   "outputs": [
    {
     "data": {
      "text/html": [
       "<div>\n",
       "<style scoped>\n",
       "    .dataframe tbody tr th:only-of-type {\n",
       "        vertical-align: middle;\n",
       "    }\n",
       "\n",
       "    .dataframe tbody tr th {\n",
       "        vertical-align: top;\n",
       "    }\n",
       "\n",
       "    .dataframe thead th {\n",
       "        text-align: right;\n",
       "    }\n",
       "</style>\n",
       "<table border=\"1\" class=\"dataframe\">\n",
       "  <thead>\n",
       "    <tr style=\"text-align: right;\">\n",
       "      <th></th>\n",
       "      <th>Total Count</th>\n",
       "      <th>Percentage of Players</th>\n",
       "    </tr>\n",
       "  </thead>\n",
       "  <tbody>\n",
       "    <tr>\n",
       "      <th>&lt;10</th>\n",
       "      <td>17</td>\n",
       "      <td>2.95%</td>\n",
       "    </tr>\n",
       "    <tr>\n",
       "      <th>10-14</th>\n",
       "      <td>22</td>\n",
       "      <td>3.82%</td>\n",
       "    </tr>\n",
       "    <tr>\n",
       "      <th>15-19</th>\n",
       "      <td>107</td>\n",
       "      <td>18.58%</td>\n",
       "    </tr>\n",
       "    <tr>\n",
       "      <th>20-24</th>\n",
       "      <td>258</td>\n",
       "      <td>44.79%</td>\n",
       "    </tr>\n",
       "    <tr>\n",
       "      <th>25-29</th>\n",
       "      <td>77</td>\n",
       "      <td>13.37%</td>\n",
       "    </tr>\n",
       "    <tr>\n",
       "      <th>30-34</th>\n",
       "      <td>52</td>\n",
       "      <td>9.03%</td>\n",
       "    </tr>\n",
       "    <tr>\n",
       "      <th>35-39</th>\n",
       "      <td>31</td>\n",
       "      <td>5.38%</td>\n",
       "    </tr>\n",
       "    <tr>\n",
       "      <th>40+</th>\n",
       "      <td>12</td>\n",
       "      <td>2.08%</td>\n",
       "    </tr>\n",
       "  </tbody>\n",
       "</table>\n",
       "</div>"
      ],
      "text/plain": [
       "       Total Count Percentage of Players\n",
       "<10             17                 2.95%\n",
       "10-14           22                 3.82%\n",
       "15-19          107                18.58%\n",
       "20-24          258                44.79%\n",
       "25-29           77                13.37%\n",
       "30-34           52                 9.03%\n",
       "35-39           31                 5.38%\n",
       "40+             12                 2.08%"
      ]
     },
     "execution_count": 208,
     "metadata": {},
     "output_type": "execute_result"
    }
   ],
   "source": [
    "#bins\n",
    "#purchase_data[purchase_data[\"Age\"]>39]\n",
    "age_bins =[0,10,15,20,25,30,35,40,46]\n",
    "bin_labels =[\"<10\",\"10-14\",\"15-19\",\"20-24\",\"25-29\",\"30-34\",\"35-39\",\"40+\"]\n",
    "temp_df = purchase_data\n",
    "temp_df[\"age_demo\"]=pd.cut(temp_df[\"Age\"],age_bins, labels = bin_labels, include_lowest=True,right=False)\n",
    "\n",
    "#separated to bins\n",
    "bin1_df = temp_df[temp_df[\"age_demo\"]==\"<10\"]\n",
    "bin2_df = temp_df[temp_df[\"age_demo\"]==\"10-14\"]\n",
    "bin3_df = temp_df[temp_df[\"age_demo\"]==\"15-19\"]\n",
    "bin4_df = temp_df[temp_df[\"age_demo\"]==\"20-24\"]\n",
    "bin5_df = temp_df[temp_df[\"age_demo\"]==\"25-29\"]\n",
    "bin6_df = temp_df[temp_df[\"age_demo\"]==\"30-34\"]\n",
    "bin7_df = temp_df[temp_df[\"age_demo\"]==\"35-39\"]\n",
    "bin8_df = temp_df[temp_df[\"age_demo\"]==\"40+\"]\n",
    "\n",
    "#players in each bin\n",
    "n_bin1 = len(bin1_df[\"SN\"].unique())\n",
    "n_bin2 = len(bin2_df[\"SN\"].unique())\n",
    "n_bin3 = len(bin3_df[\"SN\"].unique())\n",
    "n_bin4 = len(bin4_df[\"SN\"].unique())\n",
    "n_bin5 = len(bin5_df[\"SN\"].unique())\n",
    "n_bin6 = len(bin6_df[\"SN\"].unique())\n",
    "n_bin7 = len(bin7_df[\"SN\"].unique())\n",
    "n_bin8 = len(bin8_df[\"SN\"].unique())\n",
    "\n",
    "n_bin1/player_count\n",
    "\n",
    "#create df age_demo_df\n",
    "age_demo_info =[{\"Total Count\":n_bin1,\"Percentage of Players\":\"{:,.2f}%\".format(n_bin1*100/player_count)},\n",
    "               {\"Total Count\":n_bin2,\"Percentage of Players\":\"{:,.2f}%\".format(n_bin2*100/player_count)},\n",
    "               {\"Total Count\":n_bin3,\"Percentage of Players\":\"{:,.2f}%\".format(n_bin3*100/player_count)},\n",
    "               {\"Total Count\":n_bin4,\"Percentage of Players\":\"{:,.2f}%\".format(n_bin4*100/player_count)},\n",
    "               {\"Total Count\":n_bin5,\"Percentage of Players\":\"{:,.2f}%\".format(n_bin5*100/player_count)},\n",
    "               {\"Total Count\":n_bin6,\"Percentage of Players\":\"{:,.2f}%\".format(n_bin6*100/player_count)},\n",
    "               {\"Total Count\":n_bin7,\"Percentage of Players\":\"{:,.2f}%\".format(n_bin7*100/player_count)},\n",
    "               {\"Total Count\":n_bin8,\"Percentage of Players\":\"{:,.2f}%\".format(n_bin8*100/player_count)}]\n",
    "\n",
    "age_demo_df = pd.DataFrame(age_demo_info,index=[\"<10\",\"10-14\",\"15-19\",\"20-24\",\"25-29\",\"30-34\",\"35-39\",\"40+\"])\n",
    "age_demo_df"
   ]
  },
  {
   "cell_type": "markdown",
   "metadata": {},
   "source": [
    "## Purchasing Analysis (Age)"
   ]
  },
  {
   "cell_type": "markdown",
   "metadata": {},
   "source": [
    "* Bin the purchase_data data frame by age\n",
    "\n",
    "\n",
    "* Run basic calculations to obtain purchase count, avg. purchase price, avg. purchase total per person etc. in the table below\n",
    "\n",
    "\n",
    "* Create a summary data frame to hold the results\n",
    "\n",
    "\n",
    "* Optional: give the displayed data cleaner formatting\n",
    "\n",
    "\n",
    "* Display the summary data frame"
   ]
  },
  {
   "cell_type": "code",
   "execution_count": 209,
   "metadata": {},
   "outputs": [
    {
     "data": {
      "text/html": [
       "<div>\n",
       "<style scoped>\n",
       "    .dataframe tbody tr th:only-of-type {\n",
       "        vertical-align: middle;\n",
       "    }\n",
       "\n",
       "    .dataframe tbody tr th {\n",
       "        vertical-align: top;\n",
       "    }\n",
       "\n",
       "    .dataframe thead th {\n",
       "        text-align: right;\n",
       "    }\n",
       "</style>\n",
       "<table border=\"1\" class=\"dataframe\">\n",
       "  <thead>\n",
       "    <tr style=\"text-align: right;\">\n",
       "      <th></th>\n",
       "      <th>Purchase Count</th>\n",
       "      <th>Average Purchase Price</th>\n",
       "      <th>Total Purchase Value</th>\n",
       "      <th>Avg Total Purchase per Person</th>\n",
       "    </tr>\n",
       "    <tr>\n",
       "      <th>Age Ranges</th>\n",
       "      <th></th>\n",
       "      <th></th>\n",
       "      <th></th>\n",
       "      <th></th>\n",
       "    </tr>\n",
       "  </thead>\n",
       "  <tbody>\n",
       "    <tr>\n",
       "      <th>&lt;10</th>\n",
       "      <td>23</td>\n",
       "      <td>$3.35</td>\n",
       "      <td>$77.13</td>\n",
       "      <td>$4.54</td>\n",
       "    </tr>\n",
       "    <tr>\n",
       "      <th>10-14</th>\n",
       "      <td>28</td>\n",
       "      <td>$2.96</td>\n",
       "      <td>$82.78</td>\n",
       "      <td>$3.76</td>\n",
       "    </tr>\n",
       "    <tr>\n",
       "      <th>15-19</th>\n",
       "      <td>136</td>\n",
       "      <td>$3.04</td>\n",
       "      <td>$412.89</td>\n",
       "      <td>$3.86</td>\n",
       "    </tr>\n",
       "    <tr>\n",
       "      <th>20-24</th>\n",
       "      <td>365</td>\n",
       "      <td>$3.05</td>\n",
       "      <td>$1,114.06</td>\n",
       "      <td>$4.32</td>\n",
       "    </tr>\n",
       "    <tr>\n",
       "      <th>25-29</th>\n",
       "      <td>101</td>\n",
       "      <td>$2.90</td>\n",
       "      <td>$293.00</td>\n",
       "      <td>$3.81</td>\n",
       "    </tr>\n",
       "    <tr>\n",
       "      <th>30-34</th>\n",
       "      <td>73</td>\n",
       "      <td>$2.93</td>\n",
       "      <td>$214.00</td>\n",
       "      <td>$4.12</td>\n",
       "    </tr>\n",
       "    <tr>\n",
       "      <th>35-39</th>\n",
       "      <td>41</td>\n",
       "      <td>$3.60</td>\n",
       "      <td>$147.67</td>\n",
       "      <td>$4.76</td>\n",
       "    </tr>\n",
       "    <tr>\n",
       "      <th>40+</th>\n",
       "      <td>13</td>\n",
       "      <td>$2.94</td>\n",
       "      <td>$38.24</td>\n",
       "      <td>$3.19</td>\n",
       "    </tr>\n",
       "  </tbody>\n",
       "</table>\n",
       "</div>"
      ],
      "text/plain": [
       "            Purchase Count Average Purchase Price Total Purchase Value  \\\n",
       "Age Ranges                                                               \n",
       "<10                     23                  $3.35               $77.13   \n",
       "10-14                   28                  $2.96               $82.78   \n",
       "15-19                  136                  $3.04              $412.89   \n",
       "20-24                  365                  $3.05            $1,114.06   \n",
       "25-29                  101                  $2.90              $293.00   \n",
       "30-34                   73                  $2.93              $214.00   \n",
       "35-39                   41                  $3.60              $147.67   \n",
       "40+                     13                  $2.94               $38.24   \n",
       "\n",
       "           Avg Total Purchase per Person  \n",
       "Age Ranges                                \n",
       "<10                                $4.54  \n",
       "10-14                              $3.76  \n",
       "15-19                              $3.86  \n",
       "20-24                              $4.32  \n",
       "25-29                              $3.81  \n",
       "30-34                              $4.12  \n",
       "35-39                              $4.76  \n",
       "40+                                $3.19  "
      ]
     },
     "execution_count": 209,
     "metadata": {},
     "output_type": "execute_result"
    }
   ],
   "source": [
    "#already binned the data by age\n",
    "\n",
    "#let's find the purchase count for each bin\n",
    "counts_bin1 =len(bin1_df[\"Purchase ID\"].unique())\n",
    "counts_bin2 =len(bin2_df[\"Purchase ID\"].unique())\n",
    "counts_bin3 =len(bin3_df[\"Purchase ID\"].unique())\n",
    "counts_bin4 =len(bin4_df[\"Purchase ID\"].unique())\n",
    "counts_bin5 =len(bin5_df[\"Purchase ID\"].unique())\n",
    "counts_bin6 =len(bin6_df[\"Purchase ID\"].unique())\n",
    "counts_bin7 =len(bin7_df[\"Purchase ID\"].unique())\n",
    "counts_bin8 =len(bin8_df[\"Purchase ID\"].unique())\n",
    "\n",
    "#Total purchase values\n",
    "tot_price_bin1 = bin1_df[\"Price\"].sum()\n",
    "tot_price_bin2 = bin2_df[\"Price\"].sum()\n",
    "tot_price_bin3 = bin3_df[\"Price\"].sum()\n",
    "tot_price_bin4 = bin4_df[\"Price\"].sum()\n",
    "tot_price_bin5 = bin5_df[\"Price\"].sum()\n",
    "tot_price_bin6 = bin6_df[\"Price\"].sum()\n",
    "tot_price_bin7 = bin7_df[\"Price\"].sum()\n",
    "tot_price_bin8 = bin8_df[\"Price\"].sum()\n",
    "\n",
    "#Average Purchase price\n",
    "avg_price_bin1 = tot_price_bin1/counts_bin1\n",
    "avg_price_bin2 = tot_price_bin2/counts_bin2\n",
    "avg_price_bin3 = tot_price_bin3/counts_bin3\n",
    "avg_price_bin4 = tot_price_bin4/counts_bin4\n",
    "avg_price_bin5 = tot_price_bin5/counts_bin5\n",
    "avg_price_bin6 = tot_price_bin6/counts_bin6\n",
    "avg_price_bin7 = tot_price_bin7/counts_bin7\n",
    "avg_price_bin8 = tot_price_bin8/counts_bin8\n",
    "\n",
    "#Avg. Total Purchase per Person\n",
    "avg_tot_price_bin1 = tot_price_bin1/n_bin1\n",
    "avg_tot_price_bin2 = tot_price_bin2/n_bin2\n",
    "avg_tot_price_bin3 = tot_price_bin3/n_bin3\n",
    "avg_tot_price_bin4 = tot_price_bin4/n_bin4\n",
    "avg_tot_price_bin5 = tot_price_bin5/n_bin5\n",
    "avg_tot_price_bin6 = tot_price_bin6/n_bin6\n",
    "avg_tot_price_bin7 = tot_price_bin7/n_bin7\n",
    "avg_tot_price_bin8 = tot_price_bin8/n_bin8\n",
    "\n",
    "#create a panda series for each column\n",
    "ranges =[\"<10\",\"10-14\",\"15-19\",\"20-24\",\"25-29\",\"30-34\",\"35-39\",\"40+\"]\n",
    "purchase_counts = [counts_bin1,counts_bin2,counts_bin3,counts_bin4,counts_bin5,counts_bin6,counts_bin7,counts_bin8]\n",
    "\n",
    "Average_Purchase_Prices = [\"${:,.2f}\".format(avg_price_bin1),\"${:,.2f}\".format(avg_price_bin2),\n",
    "                          \"${:,.2f}\".format(avg_price_bin3),\"${:,.2f}\".format(avg_price_bin4),\n",
    "                          \"${:,.2f}\".format(avg_price_bin5),\"${:,.2f}\".format(avg_price_bin6),\n",
    "                          \"${:,.2f}\".format(avg_price_bin7),\"${:,.2f}\".format(avg_price_bin8)]\n",
    "\n",
    "Total_Purchase_Values = [\"${:,.2f}\".format(tot_price_bin1),\"${:,.2f}\".format(tot_price_bin2),\n",
    "                        \"${:,.2f}\".format(tot_price_bin3),\"${:,.2f}\".format(tot_price_bin4),\n",
    "                        \"${:,.2f}\".format(tot_price_bin5),\"${:,.2f}\".format(tot_price_bin6),\n",
    "                        \"${:,.2f}\".format(tot_price_bin7),\"${:,.2f}\".format(tot_price_bin8)]\n",
    "\n",
    "Avg_Total_Purchase_per_Person = [\"${:,.2f}\".format(avg_tot_price_bin1),\"${:,.2f}\".format(avg_tot_price_bin2),\n",
    "                                \"${:,.2f}\".format(avg_tot_price_bin3),\"${:,.2f}\".format(avg_tot_price_bin4),\n",
    "                                \"${:,.2f}\".format(avg_tot_price_bin5),\"${:,.2f}\".format(avg_tot_price_bin6),\n",
    "                                \"${:,.2f}\".format(avg_tot_price_bin7),\"${:,.2f}\".format(avg_tot_price_bin8)]\n",
    "\n",
    "#combine all the information to a df\n",
    "#this time df is created differently to hget the \"index label\"\n",
    "#Note the index label \"Age Ranges\"\n",
    "purchasing_df = pd.DataFrame({\"Age Ranges\":ranges,\n",
    "                             \"Purchase Count\":purchase_counts,\n",
    "                             \"Average Purchase Price\":Average_Purchase_Prices,\n",
    "                             \"Total Purchase Value\":Total_Purchase_Values,\n",
    "                             \"Avg Total Purchase per Person\":Avg_Total_Purchase_per_Person})\n",
    "purchasing_df.set_index(\"Age Ranges\")"
   ]
  },
  {
   "cell_type": "markdown",
   "metadata": {},
   "source": [
    "## Top Spenders"
   ]
  },
  {
   "cell_type": "markdown",
   "metadata": {},
   "source": [
    "* Run basic calculations to obtain the results in the table below\n",
    "\n",
    "\n",
    "* Create a summary data frame to hold the results\n",
    "\n",
    "\n",
    "* Sort the total purchase value column in descending order\n",
    "\n",
    "\n",
    "* Optional: give the displayed data cleaner formatting\n",
    "\n",
    "\n",
    "* Display a preview of the summary data frame\n",
    "\n"
   ]
  },
  {
   "cell_type": "code",
   "execution_count": 214,
   "metadata": {},
   "outputs": [
    {
     "data": {
      "text/html": [
       "<style  type=\"text/css\" >\n",
       "</style><table id=\"T_f5a83f86_7456_11ea_9313_acde48001122\" ><thead>    <tr>        <th class=\"blank level0\" ></th>        <th class=\"col_heading level0 col0\" >Purchase Count</th>        <th class=\"col_heading level0 col1\" >Average Purchase Price</th>        <th class=\"col_heading level0 col2\" >Total Purchase Value</th>    </tr>    <tr>        <th class=\"index_name level0\" >SN</th>        <th class=\"blank\" ></th>        <th class=\"blank\" ></th>        <th class=\"blank\" ></th>    </tr></thead><tbody>\n",
       "                <tr>\n",
       "                        <th id=\"T_f5a83f86_7456_11ea_9313_acde48001122level0_row0\" class=\"row_heading level0 row0\" >Lisosia93</th>\n",
       "                        <td id=\"T_f5a83f86_7456_11ea_9313_acde48001122row0_col0\" class=\"data row0 col0\" >5</td>\n",
       "                        <td id=\"T_f5a83f86_7456_11ea_9313_acde48001122row0_col1\" class=\"data row0 col1\" >$3.79</td>\n",
       "                        <td id=\"T_f5a83f86_7456_11ea_9313_acde48001122row0_col2\" class=\"data row0 col2\" >$18.96</td>\n",
       "            </tr>\n",
       "            <tr>\n",
       "                        <th id=\"T_f5a83f86_7456_11ea_9313_acde48001122level0_row1\" class=\"row_heading level0 row1\" >Idastidru52</th>\n",
       "                        <td id=\"T_f5a83f86_7456_11ea_9313_acde48001122row1_col0\" class=\"data row1 col0\" >4</td>\n",
       "                        <td id=\"T_f5a83f86_7456_11ea_9313_acde48001122row1_col1\" class=\"data row1 col1\" >$3.86</td>\n",
       "                        <td id=\"T_f5a83f86_7456_11ea_9313_acde48001122row1_col2\" class=\"data row1 col2\" >$15.45</td>\n",
       "            </tr>\n",
       "            <tr>\n",
       "                        <th id=\"T_f5a83f86_7456_11ea_9313_acde48001122level0_row2\" class=\"row_heading level0 row2\" >Chamjask73</th>\n",
       "                        <td id=\"T_f5a83f86_7456_11ea_9313_acde48001122row2_col0\" class=\"data row2 col0\" >3</td>\n",
       "                        <td id=\"T_f5a83f86_7456_11ea_9313_acde48001122row2_col1\" class=\"data row2 col1\" >$4.61</td>\n",
       "                        <td id=\"T_f5a83f86_7456_11ea_9313_acde48001122row2_col2\" class=\"data row2 col2\" >$13.83</td>\n",
       "            </tr>\n",
       "            <tr>\n",
       "                        <th id=\"T_f5a83f86_7456_11ea_9313_acde48001122level0_row3\" class=\"row_heading level0 row3\" >Iral74</th>\n",
       "                        <td id=\"T_f5a83f86_7456_11ea_9313_acde48001122row3_col0\" class=\"data row3 col0\" >4</td>\n",
       "                        <td id=\"T_f5a83f86_7456_11ea_9313_acde48001122row3_col1\" class=\"data row3 col1\" >$3.40</td>\n",
       "                        <td id=\"T_f5a83f86_7456_11ea_9313_acde48001122row3_col2\" class=\"data row3 col2\" >$13.62</td>\n",
       "            </tr>\n",
       "            <tr>\n",
       "                        <th id=\"T_f5a83f86_7456_11ea_9313_acde48001122level0_row4\" class=\"row_heading level0 row4\" >Iskadarya95</th>\n",
       "                        <td id=\"T_f5a83f86_7456_11ea_9313_acde48001122row4_col0\" class=\"data row4 col0\" >3</td>\n",
       "                        <td id=\"T_f5a83f86_7456_11ea_9313_acde48001122row4_col1\" class=\"data row4 col1\" >$4.37</td>\n",
       "                        <td id=\"T_f5a83f86_7456_11ea_9313_acde48001122row4_col2\" class=\"data row4 col2\" >$13.10</td>\n",
       "            </tr>\n",
       "    </tbody></table>"
      ],
      "text/plain": [
       "<pandas.io.formats.style.Styler at 0x116288d68>"
      ]
     },
     "execution_count": 214,
     "metadata": {},
     "output_type": "execute_result"
    }
   ],
   "source": [
    "#let's find the purchase count for each SN\n",
    "#counts = purchase_data[\"SN\"].value_counts()\n",
    "\n",
    "#first I am going to group by the player\n",
    "grouped_df = purchase_data.groupby(['SN'])\n",
    "total_value = grouped_df[\"Price\"].sum()\n",
    "counts = grouped_df[\"Item ID\"].count()\n",
    "avg_per_item = total_value/counts\n",
    "\n",
    "top_spenders_summary = pd.DataFrame({\"Purchase Count\": counts,\n",
    "                                    \"Average Purchase Price\": avg_per_item,\n",
    "                                    \"Total Purchase Value\":total_value})\n",
    "#sorting\n",
    "sorted_top_spenders_summary = top_spenders_summary.sort_values(\"Total Purchase Value\",ascending=False)\n",
    "#formatting the df\n",
    "#note: If I dont do head hear it will sjhow the whle df\n",
    "formatted_summary= sorted_top_spenders_summary.head().style.format({\"Average Purchase Price\":\"${:,.2f}\",\n",
    "                                 \"Total Purchase Value\":\"${:,.2f}\"})\n",
    "formatted_summary\n",
    "#sorted_top_spenders_summary "
   ]
  },
  {
   "cell_type": "markdown",
   "metadata": {},
   "source": [
    "## Most Popular Items"
   ]
  },
  {
   "cell_type": "markdown",
   "metadata": {},
   "source": [
    "* Retrieve the Item ID, Item Name, and Item Price columns\n",
    "\n",
    "\n",
    "* Group by Item ID and Item Name. Perform calculations to obtain purchase count, item price, and total purchase value\n",
    "\n",
    "\n",
    "* Create a summary data frame to hold the results\n",
    "\n",
    "\n",
    "* Sort the purchase count column in descending order\n",
    "\n",
    "\n",
    "* Optional: give the displayed data cleaner formatting\n",
    "\n",
    "\n",
    "* Display a preview of the summary data frame\n",
    "\n"
   ]
  },
  {
   "cell_type": "code",
   "execution_count": 211,
   "metadata": {},
   "outputs": [
    {
     "data": {
      "text/html": [
       "<style  type=\"text/css\" >\n",
       "</style><table id=\"T_55df329e_7453_11ea_8dab_acde48001122\" ><thead>    <tr>        <th class=\"blank\" ></th>        <th class=\"blank level0\" ></th>        <th class=\"col_heading level0 col0\" >Purchase Count</th>        <th class=\"col_heading level0 col1\" >Item Price</th>        <th class=\"col_heading level0 col2\" >Total Purchase Value</th>    </tr>    <tr>        <th class=\"index_name level0\" >Item ID</th>        <th class=\"index_name level1\" >Item Name</th>        <th class=\"blank\" ></th>        <th class=\"blank\" ></th>        <th class=\"blank\" ></th>    </tr></thead><tbody>\n",
       "                <tr>\n",
       "                        <th id=\"T_55df329e_7453_11ea_8dab_acde48001122level0_row0\" class=\"row_heading level0 row0\" >92</th>\n",
       "                        <th id=\"T_55df329e_7453_11ea_8dab_acde48001122level1_row0\" class=\"row_heading level1 row0\" >Final Critic</th>\n",
       "                        <td id=\"T_55df329e_7453_11ea_8dab_acde48001122row0_col0\" class=\"data row0 col0\" >13</td>\n",
       "                        <td id=\"T_55df329e_7453_11ea_8dab_acde48001122row0_col1\" class=\"data row0 col1\" >$4.61</td>\n",
       "                        <td id=\"T_55df329e_7453_11ea_8dab_acde48001122row0_col2\" class=\"data row0 col2\" >$59.99</td>\n",
       "            </tr>\n",
       "            <tr>\n",
       "                        <th id=\"T_55df329e_7453_11ea_8dab_acde48001122level0_row1\" class=\"row_heading level0 row1\" >178</th>\n",
       "                        <th id=\"T_55df329e_7453_11ea_8dab_acde48001122level1_row1\" class=\"row_heading level1 row1\" >Oathbreaker, Last Hope of the Breaking Storm</th>\n",
       "                        <td id=\"T_55df329e_7453_11ea_8dab_acde48001122row1_col0\" class=\"data row1 col0\" >12</td>\n",
       "                        <td id=\"T_55df329e_7453_11ea_8dab_acde48001122row1_col1\" class=\"data row1 col1\" >$4.23</td>\n",
       "                        <td id=\"T_55df329e_7453_11ea_8dab_acde48001122row1_col2\" class=\"data row1 col2\" >$50.76</td>\n",
       "            </tr>\n",
       "            <tr>\n",
       "                        <th id=\"T_55df329e_7453_11ea_8dab_acde48001122level0_row2\" class=\"row_heading level0 row2\" >145</th>\n",
       "                        <th id=\"T_55df329e_7453_11ea_8dab_acde48001122level1_row2\" class=\"row_heading level1 row2\" >Fiery Glass Crusader</th>\n",
       "                        <td id=\"T_55df329e_7453_11ea_8dab_acde48001122row2_col0\" class=\"data row2 col0\" >9</td>\n",
       "                        <td id=\"T_55df329e_7453_11ea_8dab_acde48001122row2_col1\" class=\"data row2 col1\" >$4.58</td>\n",
       "                        <td id=\"T_55df329e_7453_11ea_8dab_acde48001122row2_col2\" class=\"data row2 col2\" >$41.22</td>\n",
       "            </tr>\n",
       "            <tr>\n",
       "                        <th id=\"T_55df329e_7453_11ea_8dab_acde48001122level0_row3\" class=\"row_heading level0 row3\" >132</th>\n",
       "                        <th id=\"T_55df329e_7453_11ea_8dab_acde48001122level1_row3\" class=\"row_heading level1 row3\" >Persuasion</th>\n",
       "                        <td id=\"T_55df329e_7453_11ea_8dab_acde48001122row3_col0\" class=\"data row3 col0\" >9</td>\n",
       "                        <td id=\"T_55df329e_7453_11ea_8dab_acde48001122row3_col1\" class=\"data row3 col1\" >$3.22</td>\n",
       "                        <td id=\"T_55df329e_7453_11ea_8dab_acde48001122row3_col2\" class=\"data row3 col2\" >$28.99</td>\n",
       "            </tr>\n",
       "            <tr>\n",
       "                        <th id=\"T_55df329e_7453_11ea_8dab_acde48001122level0_row4\" class=\"row_heading level0 row4\" >108</th>\n",
       "                        <th id=\"T_55df329e_7453_11ea_8dab_acde48001122level1_row4\" class=\"row_heading level1 row4\" >Extraction, Quickblade Of Trembling Hands</th>\n",
       "                        <td id=\"T_55df329e_7453_11ea_8dab_acde48001122row4_col0\" class=\"data row4 col0\" >9</td>\n",
       "                        <td id=\"T_55df329e_7453_11ea_8dab_acde48001122row4_col1\" class=\"data row4 col1\" >$3.53</td>\n",
       "                        <td id=\"T_55df329e_7453_11ea_8dab_acde48001122row4_col2\" class=\"data row4 col2\" >$31.77</td>\n",
       "            </tr>\n",
       "    </tbody></table>"
      ],
      "text/plain": [
       "<pandas.io.formats.style.Styler at 0x11625d240>"
      ]
     },
     "execution_count": 211,
     "metadata": {},
     "output_type": "execute_result"
    }
   ],
   "source": [
    "#now group by both the item id and the item name\n",
    "newgrouped_df = purchase_data.groupby([\"Item ID\",\"Item Name\"])\n",
    "#calculate the required values\n",
    "new_total = newgrouped_df[\"Price\"].sum()\n",
    "new_counts = newgrouped_df[\"Item ID\"].count()\n",
    "item_price = newgrouped_df[\"Price\"].sum()/newgrouped_df[\"Item ID\"].count()\n",
    "most_popular_summary = pd.DataFrame({\"Purchase Count\": new_counts,\n",
    "                                    \"Item Price\": item_price,\n",
    "                                    \"Total Purchase Value\":new_total})\n",
    "most_popular_summary\n",
    "#sorting\n",
    "sorted_most_popular_summary = most_popular_summary.sort_values(\"Purchase Count\",ascending=False)\n",
    "sorted_most_popular_summary\n",
    "#formatting\n",
    "formatted_sorted_most_popular_summary= sorted_most_popular_summary.head().style.format({\"Item Price\":\"${:,.2f}\",\n",
    "                                 \"Total Purchase Value\":\"${:,.2f}\"})\n",
    "formatted_sorted_most_popular_summary"
   ]
  },
  {
   "cell_type": "markdown",
   "metadata": {},
   "source": [
    "## Most Profitable Items"
   ]
  },
  {
   "cell_type": "markdown",
   "metadata": {},
   "source": [
    "* Sort the above table by total purchase value in descending order\n",
    "\n",
    "\n",
    "* Optional: give the displayed data cleaner formatting\n",
    "\n",
    "\n",
    "* Display a preview of the data frame\n",
    "\n"
   ]
  },
  {
   "cell_type": "code",
   "execution_count": 212,
   "metadata": {
    "scrolled": true
   },
   "outputs": [
    {
     "data": {
      "text/html": [
       "<style  type=\"text/css\" >\n",
       "</style><table id=\"T_6d2be37a_7453_11ea_9c5e_acde48001122\" ><thead>    <tr>        <th class=\"blank\" ></th>        <th class=\"blank level0\" ></th>        <th class=\"col_heading level0 col0\" >Purchase Count</th>        <th class=\"col_heading level0 col1\" >Item Price</th>        <th class=\"col_heading level0 col2\" >Total Purchase Value</th>    </tr>    <tr>        <th class=\"index_name level0\" >Item ID</th>        <th class=\"index_name level1\" >Item Name</th>        <th class=\"blank\" ></th>        <th class=\"blank\" ></th>        <th class=\"blank\" ></th>    </tr></thead><tbody>\n",
       "                <tr>\n",
       "                        <th id=\"T_6d2be37a_7453_11ea_9c5e_acde48001122level0_row0\" class=\"row_heading level0 row0\" >92</th>\n",
       "                        <th id=\"T_6d2be37a_7453_11ea_9c5e_acde48001122level1_row0\" class=\"row_heading level1 row0\" >Final Critic</th>\n",
       "                        <td id=\"T_6d2be37a_7453_11ea_9c5e_acde48001122row0_col0\" class=\"data row0 col0\" >13</td>\n",
       "                        <td id=\"T_6d2be37a_7453_11ea_9c5e_acde48001122row0_col1\" class=\"data row0 col1\" >$4.61</td>\n",
       "                        <td id=\"T_6d2be37a_7453_11ea_9c5e_acde48001122row0_col2\" class=\"data row0 col2\" >$59.99</td>\n",
       "            </tr>\n",
       "            <tr>\n",
       "                        <th id=\"T_6d2be37a_7453_11ea_9c5e_acde48001122level0_row1\" class=\"row_heading level0 row1\" >178</th>\n",
       "                        <th id=\"T_6d2be37a_7453_11ea_9c5e_acde48001122level1_row1\" class=\"row_heading level1 row1\" >Oathbreaker, Last Hope of the Breaking Storm</th>\n",
       "                        <td id=\"T_6d2be37a_7453_11ea_9c5e_acde48001122row1_col0\" class=\"data row1 col0\" >12</td>\n",
       "                        <td id=\"T_6d2be37a_7453_11ea_9c5e_acde48001122row1_col1\" class=\"data row1 col1\" >$4.23</td>\n",
       "                        <td id=\"T_6d2be37a_7453_11ea_9c5e_acde48001122row1_col2\" class=\"data row1 col2\" >$50.76</td>\n",
       "            </tr>\n",
       "            <tr>\n",
       "                        <th id=\"T_6d2be37a_7453_11ea_9c5e_acde48001122level0_row2\" class=\"row_heading level0 row2\" >82</th>\n",
       "                        <th id=\"T_6d2be37a_7453_11ea_9c5e_acde48001122level1_row2\" class=\"row_heading level1 row2\" >Nirvana</th>\n",
       "                        <td id=\"T_6d2be37a_7453_11ea_9c5e_acde48001122row2_col0\" class=\"data row2 col0\" >9</td>\n",
       "                        <td id=\"T_6d2be37a_7453_11ea_9c5e_acde48001122row2_col1\" class=\"data row2 col1\" >$4.90</td>\n",
       "                        <td id=\"T_6d2be37a_7453_11ea_9c5e_acde48001122row2_col2\" class=\"data row2 col2\" >$44.10</td>\n",
       "            </tr>\n",
       "            <tr>\n",
       "                        <th id=\"T_6d2be37a_7453_11ea_9c5e_acde48001122level0_row3\" class=\"row_heading level0 row3\" >145</th>\n",
       "                        <th id=\"T_6d2be37a_7453_11ea_9c5e_acde48001122level1_row3\" class=\"row_heading level1 row3\" >Fiery Glass Crusader</th>\n",
       "                        <td id=\"T_6d2be37a_7453_11ea_9c5e_acde48001122row3_col0\" class=\"data row3 col0\" >9</td>\n",
       "                        <td id=\"T_6d2be37a_7453_11ea_9c5e_acde48001122row3_col1\" class=\"data row3 col1\" >$4.58</td>\n",
       "                        <td id=\"T_6d2be37a_7453_11ea_9c5e_acde48001122row3_col2\" class=\"data row3 col2\" >$41.22</td>\n",
       "            </tr>\n",
       "            <tr>\n",
       "                        <th id=\"T_6d2be37a_7453_11ea_9c5e_acde48001122level0_row4\" class=\"row_heading level0 row4\" >103</th>\n",
       "                        <th id=\"T_6d2be37a_7453_11ea_9c5e_acde48001122level1_row4\" class=\"row_heading level1 row4\" >Singed Scalpel</th>\n",
       "                        <td id=\"T_6d2be37a_7453_11ea_9c5e_acde48001122row4_col0\" class=\"data row4 col0\" >8</td>\n",
       "                        <td id=\"T_6d2be37a_7453_11ea_9c5e_acde48001122row4_col1\" class=\"data row4 col1\" >$4.35</td>\n",
       "                        <td id=\"T_6d2be37a_7453_11ea_9c5e_acde48001122row4_col2\" class=\"data row4 col2\" >$34.80</td>\n",
       "            </tr>\n",
       "    </tbody></table>"
      ],
      "text/plain": [
       "<pandas.io.formats.style.Styler at 0x11655fda0>"
      ]
     },
     "execution_count": 212,
     "metadata": {},
     "output_type": "execute_result"
    }
   ],
   "source": [
    "#sorting based on the purchase value\n",
    "new_sorted_most_popular_summary = most_popular_summary.sort_values(\"Total Purchase Value\",ascending=False)\n",
    "new_sorted_most_popular_summary.head()\n",
    "new_formatted_sorted_most_popular_summary= new_sorted_most_popular_summary.head().style.format({\"Item Price\":\"${:,.2f}\",\n",
    "                                 \"Total Purchase Value\":\"${:,.2f}\"})\n",
    "new_formatted_sorted_most_popular_summary"
   ]
  }
 ],
 "metadata": {
  "anaconda-cloud": {},
  "kernel_info": {
   "name": "python3"
  },
  "kernelspec": {
   "display_name": "pythondata",
   "language": "python",
   "name": "pythondata"
  },
  "language_info": {
   "codemirror_mode": {
    "name": "ipython",
    "version": 3
   },
   "file_extension": ".py",
   "mimetype": "text/x-python",
   "name": "python",
   "nbconvert_exporter": "python",
   "pygments_lexer": "ipython3",
   "version": "3.6.10"
  },
  "latex_envs": {
   "LaTeX_envs_menu_present": true,
   "autoclose": false,
   "autocomplete": true,
   "bibliofile": "biblio.bib",
   "cite_by": "apalike",
   "current_citInitial": 1,
   "eqLabelWithNumbers": true,
   "eqNumInitial": 1,
   "hotkeys": {
    "equation": "Ctrl-E",
    "itemize": "Ctrl-I"
   },
   "labels_anchors": false,
   "latex_user_defs": false,
   "report_style_numbering": false,
   "user_envs_cfg": false
  },
  "nteract": {
   "version": "0.2.0"
  }
 },
 "nbformat": 4,
 "nbformat_minor": 4
}
